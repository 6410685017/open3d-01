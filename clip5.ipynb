{
 "cells": [
  {
   "cell_type": "markdown",
   "id": "4fec0d3b-0319-468e-96df-8e81a487fc5c",
   "metadata": {},
   "source": [
    "Clip 5"
   ]
  },
  {
   "cell_type": "markdown",
   "id": "3fdf087a-e265-4e94-9d35-a9ed90500903",
   "metadata": {},
   "source": [
    "Initial"
   ]
  },
  {
   "cell_type": "code",
   "execution_count": 5,
   "id": "b25d0aae-b2b1-4d15-b716-4a18ef988e68",
   "metadata": {},
   "outputs": [],
   "source": [
    "import open3d as o3d\n",
    "import numpy as np\n",
    "import json"
   ]
  },
  {
   "cell_type": "code",
   "execution_count": 6,
   "id": "f8a36070-69d0-4a83-92b9-150d02e85388",
   "metadata": {},
   "outputs": [
    {
     "name": "stdout",
     "output_type": "stream",
     "text": [
      "PointCloud with 14640197 points.\n",
      "\n"
     ]
    }
   ],
   "source": [
    "# Initial\n",
    "kota = \"Dataset/kota_circuit2.ply\"\n",
    "pcd = o3d.io.read_point_cloud(kota)\n",
    "print(pcd)\n",
    "print()"
   ]
  },
  {
   "cell_type": "code",
   "execution_count": null,
   "id": "37ba8110-7d05-4dae-b8ff-873bcb7167ae",
   "metadata": {},
   "outputs": [],
   "source": [
    "# Visualize pcd\n",
    "o3d.visualization.draw_geometries([pcd])"
   ]
  },
  {
   "cell_type": "code",
   "execution_count": 4,
   "id": "97eca5b3-9d05-4302-b09c-cb1db31806eb",
   "metadata": {},
   "outputs": [
    {
     "name": "stdout",
     "output_type": "stream",
     "text": [
      "min_bound = [-150, -100, -100]\n",
      "max_bound = [444, 350, 0]\n"
     ]
    }
   ],
   "source": [
    "# Configuration for cropping\n",
    "\n",
    "min_bound = [-150, -100, -100]\n",
    "max_bound = [444, 350, 0]\n",
    "\n",
    "print(f\"min_bound = {min_bound}\")\n",
    "print(f\"max_bound = {max_bound}\")"
   ]
  },
  {
   "cell_type": "code",
   "execution_count": 5,
   "id": "5b086b10-ccbd-449c-bc5c-432c56f57282",
   "metadata": {},
   "outputs": [
    {
     "name": "stdout",
     "output_type": "stream",
     "text": [
      "PointCloud with 10275773 points.\n"
     ]
    }
   ],
   "source": [
    "# Define the axis-aligned bounding box with the loaded bounds\n",
    "aabb = o3d.geometry.AxisAlignedBoundingBox(min_bound=min_bound, max_bound=max_bound)\n",
    "\n",
    "# Crop the point cloud\n",
    "cropped_pcd = pcd.crop(aabb)\n",
    "\n",
    "print(cropped_pcd)"
   ]
  },
  {
   "cell_type": "markdown",
   "id": "cbdab6d1-5e39-411b-8cce-4a8d9cadd7ca",
   "metadata": {},
   "source": [
    "Get vertex normal"
   ]
  },
  {
   "cell_type": "code",
   "execution_count": 6,
   "id": "52fbb64b-bef3-40d2-89fb-0138d0b9c1b4",
   "metadata": {},
   "outputs": [
    {
     "name": "stdout",
     "output_type": "stream",
     "text": [
      "Finish estimate normal\n"
     ]
    }
   ],
   "source": [
    "# Get vertex normal\n",
    "cropped_pcd.estimate_normals(\n",
    "    search_param=o3d.geometry.KDTreeSearchParamHybrid(radius=0.1, max_nn=30))\n",
    "print(\"Finish estimate normal\")"
   ]
  },
  {
   "cell_type": "code",
   "execution_count": 7,
   "id": "079db202-27e3-4f23-9396-2346aa877fec",
   "metadata": {},
   "outputs": [
    {
     "data": {
      "text/plain": [
       "True"
      ]
     },
     "execution_count": 7,
     "metadata": {},
     "output_type": "execute_result"
    }
   ],
   "source": [
    "o3d.io.write_point_cloud(\"cropped_normal.ply\", cropped_pcd, write_ascii=True) # save new ascii ply"
   ]
  },
  {
   "cell_type": "markdown",
   "id": "dbc75c1a-0b90-4552-aa27-92d4393645fc",
   "metadata": {},
   "source": [
    "Normal Filter"
   ]
  },
  {
   "cell_type": "code",
   "execution_count": 8,
   "id": "20151af3-dff8-43a1-83bc-5346cf47a8e2",
   "metadata": {},
   "outputs": [
    {
     "name": "stdout",
     "output_type": "stream",
     "text": [
      "X range: -149.99990844726562 to 260.0782165527344\n",
      "Y range: -99.99994659423828 to 349.9996337890625\n",
      "Z range: -99.99986267089844 to -16.549089431762695\n"
     ]
    }
   ],
   "source": [
    "# Prepare data for filter\n",
    "\n",
    "# Convert the point cloud to a NumPy array\n",
    "points = np.asarray(cropped_pcd.points)\n",
    "colors = np.asarray(cropped_pcd.colors)\n",
    "normals = np.asarray(cropped_pcd.normals)\n",
    "\n",
    "# Print the min and max of each coordinate (test)\n",
    "print(f\"X range: {points[:, 0].min()} to {points[:, 0].max()}\")\n",
    "print(f\"Y range: {points[:, 1].min()} to {points[:, 1].max()}\")\n",
    "print(f\"Z range: {points[:, 2].min()} to {points[:, 2].max()}\")"
   ]
  },
  {
   "cell_type": "code",
   "execution_count": 9,
   "id": "157b9c32-9751-4af3-b711-23a729c6f786",
   "metadata": {},
   "outputs": [],
   "source": [
    "# Define a function to calculate the angle with the vertical\n",
    "def angle_with_vertical(normal):\n",
    "    # Assuming the vertical is along the z-axis\n",
    "    vertical = np.array([0, 0, 1])\n",
    "    cosine_angle = np.dot(normal, vertical) / (np.linalg.norm(normal) * np.linalg.norm(vertical))\n",
    "    return np.arccos(cosine_angle)  # Return the angle in radians"
   ]
  },
  {
   "cell_type": "code",
   "execution_count": 10,
   "id": "d63be20e-1173-4ca4-80cd-f28bfcb43973",
   "metadata": {},
   "outputs": [
    {
     "name": "stdout",
     "output_type": "stream",
     "text": [
      "Finish Calculating\n"
     ]
    }
   ],
   "source": [
    "# Filter out points based on the angle with the vertical\n",
    "angle_threshold = np.pi / 6  # 30 degrees, adjust this threshold as needed\n",
    "filtered_points = []\n",
    "filtered_normals = []\n",
    "filtered_colors = []\n",
    "\n",
    "for point, normal, color in zip(cropped_pcd.points, cropped_pcd.normals, cropped_pcd.colors):\n",
    "    if angle_with_vertical(normal) < angle_threshold:\n",
    "        filtered_points.append(point)\n",
    "        filtered_normals.append(normal)\n",
    "        filtered_colors.append(color)\n",
    "\n",
    "# Create a new point cloud with the filtered points\n",
    "road_pcd = o3d.geometry.PointCloud()\n",
    "road_pcd.points = o3d.utility.Vector3dVector(filtered_points)\n",
    "road_pcd.normals = o3d.utility.Vector3dVector(filtered_normals)\n",
    "road_pcd.colors = o3d.utility.Vector3dVector(filtered_colors)\n",
    "\n",
    "print(\"Finish Calculating\")"
   ]
  },
  {
   "cell_type": "code",
   "execution_count": 4,
   "id": "dfe0dab5-d1bb-4f8e-af51-87ae9e7c474c",
   "metadata": {},
   "outputs": [
    {
     "ename": "NameError",
     "evalue": "name 'road_pcd' is not defined",
     "output_type": "error",
     "traceback": [
      "\u001b[0;31m---------------------------------------------------------------------------\u001b[0m",
      "\u001b[0;31mNameError\u001b[0m                                 Traceback (most recent call last)",
      "Cell \u001b[0;32mIn[4], line 2\u001b[0m\n\u001b[1;32m      1\u001b[0m \u001b[38;5;66;03m# Save the filtered point cloud\u001b[39;00m\n\u001b[0;32m----> 2\u001b[0m o3d\u001b[38;5;241m.\u001b[39mio\u001b[38;5;241m.\u001b[39mwrite_point_cloud(\u001b[38;5;124m\"\u001b[39m\u001b[38;5;124mfiltered_road.ply\u001b[39m\u001b[38;5;124m\"\u001b[39m, \u001b[43mroad_pcd\u001b[49m, write_ascii\u001b[38;5;241m=\u001b[39m\u001b[38;5;28;01mTrue\u001b[39;00m)\n",
      "\u001b[0;31mNameError\u001b[0m: name 'road_pcd' is not defined"
     ]
    }
   ],
   "source": [
    "# Save the filtered point cloud\n",
    "o3d.io.write_point_cloud(\"filtered_road.ply\", road_pcd, write_ascii=True)"
   ]
  },
  {
   "cell_type": "code",
   "execution_count": 2,
   "id": "c03a37ed-ddad-4eec-9c55-12d721f2f54d",
   "metadata": {},
   "outputs": [
    {
     "ename": "NameError",
     "evalue": "name 'o3d' is not defined",
     "output_type": "error",
     "traceback": [
      "\u001b[0;31m---------------------------------------------------------------------------\u001b[0m",
      "\u001b[0;31mNameError\u001b[0m                                 Traceback (most recent call last)",
      "Cell \u001b[0;32mIn[2], line 2\u001b[0m\n\u001b[1;32m      1\u001b[0m \u001b[38;5;66;03m# Visualize result\u001b[39;00m\n\u001b[0;32m----> 2\u001b[0m \u001b[43mo3d\u001b[49m\u001b[38;5;241m.\u001b[39mvisualization\u001b[38;5;241m.\u001b[39mdraw_geometries([road_pcd])\n",
      "\u001b[0;31mNameError\u001b[0m: name 'o3d' is not defined"
     ]
    }
   ],
   "source": [
    "# Visualize result\n",
    "o3d.visualization.draw_geometries([road_pcd])"
   ]
  },
  {
   "cell_type": "code",
   "execution_count": null,
   "id": "cab15829-a18e-4b66-af8f-b8782e05565e",
   "metadata": {},
   "outputs": [],
   "source": []
  }
 ],
 "metadata": {
  "kernelspec": {
   "display_name": "Python 3 (ipykernel)",
   "language": "python",
   "name": "python3"
  },
  "language_info": {
   "codemirror_mode": {
    "name": "ipython",
    "version": 3
   },
   "file_extension": ".py",
   "mimetype": "text/x-python",
   "name": "python",
   "nbconvert_exporter": "python",
   "pygments_lexer": "ipython3",
   "version": "3.9.6"
  }
 },
 "nbformat": 4,
 "nbformat_minor": 5
}
