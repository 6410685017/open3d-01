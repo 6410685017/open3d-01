{
 "cells": [
  {
   "cell_type": "markdown",
   "id": "fbf35f19-4713-43bc-971e-6acbaddf05b4",
   "metadata": {},
   "source": [
    "Clip4"
   ]
  },
  {
   "cell_type": "code",
   "execution_count": 1,
   "id": "a8c0d613-99ec-468f-ad03-3b6a71dfeb94",
   "metadata": {},
   "outputs": [
    {
     "name": "stderr",
     "output_type": "stream",
     "text": [
      "/Users/pinnalin/Library/Python/3.9/lib/python/site-packages/urllib3/__init__.py:34: NotOpenSSLWarning: urllib3 v2 only supports OpenSSL 1.1.1+, currently the 'ssl' module is compiled with 'LibreSSL 2.8.3'. See: https://github.com/urllib3/urllib3/issues/3020\n",
      "  warnings.warn(\n"
     ]
    }
   ],
   "source": [
    "import open3d as o3d\n",
    "import numpy as np\n",
    "import json"
   ]
  },
  {
   "cell_type": "code",
   "execution_count": null,
   "id": "f1209320-c93e-4ae0-a268-dbbaa78c5e4c",
   "metadata": {},
   "outputs": [],
   "source": [
    "# Initial\n",
    "kota = \"../open3d-01/Dataset/kota_circuit2.ply\"\n",
    "crop_json = \"crop.json\"\n",
    "pcd = o3d.io.read_point_cloud(kota)\n",
    "print(pcd)\n",
    "print()\n",
    "\n",
    "# Load JSON configuration\n",
    "with open('crop.json','r') as f:\n",
    "    config = json.load(f)\n",
    "\n",
    "min_bound = config['min_bound']\n",
    "max_bound = config['max_bound']\n",
    "\n",
    "print(f\"min_bound = {'min_bound'}\")\n",
    "print(f\"max_bound = {'max_bound'}\")"
   ]
  },
  {
   "cell_type": "code",
   "execution_count": 6,
   "id": "0de76358-340d-4171-9489-cf7c6a412ba8",
   "metadata": {
    "jupyter": {
     "source_hidden": true
    }
   },
   "outputs": [
    {
     "ename": "NameError",
     "evalue": "name 'min_bound' is not defined",
     "output_type": "error",
     "traceback": [
      "\u001b[0;31m---------------------------------------------------------------------------\u001b[0m",
      "\u001b[0;31mNameError\u001b[0m                                 Traceback (most recent call last)",
      "Cell \u001b[0;32mIn[6], line 2\u001b[0m\n\u001b[1;32m      1\u001b[0m \u001b[38;5;66;03m# Defind the axis-aligned bounding box with the loaded bounds\u001b[39;00m\n\u001b[0;32m----> 2\u001b[0m aabb \u001b[38;5;241m=\u001b[39m o3d\u001b[38;5;241m.\u001b[39mgeometry\u001b[38;5;241m.\u001b[39mAxisAlignedBoundingBox(min_bound\u001b[38;5;241m=\u001b[39m\u001b[43mmin_bound\u001b[49m,max_bound\u001b[38;5;241m=\u001b[39mmax_bound)\n\u001b[1;32m      4\u001b[0m \u001b[38;5;66;03m# Crop the point cloud\u001b[39;00m\n\u001b[1;32m      5\u001b[0m cropped_pcd \u001b[38;5;241m=\u001b[39m pcd\u001b[38;5;241m.\u001b[39mcrop(aabb)\n",
      "\u001b[0;31mNameError\u001b[0m: name 'min_bound' is not defined"
     ]
    }
   ],
   "source": [
    "# Defind the axis-aligned bounding box with the loaded bounds\n",
    "aabb = o3d.geometry.AxisAlignedBoundingBox(min_bound=min_bound,max_bound=max_bound)\n",
    "\n",
    "# Crop the point cloud\n",
    "cropped_pcd = pcd.crop(aabb)\n",
    "\n",
    "print(cropped_pcd)"
   ]
  },
  {
   "cell_type": "markdown",
   "id": "25812025-ac82-475d-a801-adc6a8d585f5",
   "metadata": {},
   "source": [
    "Get vertex normal"
   ]
  },
  {
   "cell_type": "code",
   "execution_count": 7,
   "id": "ef77b18f-c128-440e-be21-033e53f17b7d",
   "metadata": {},
   "outputs": [
    {
     "ename": "NameError",
     "evalue": "name 'Cropped_pcd' is not defined",
     "output_type": "error",
     "traceback": [
      "\u001b[0;31m---------------------------------------------------------------------------\u001b[0m",
      "\u001b[0;31mNameError\u001b[0m                                 Traceback (most recent call last)",
      "Cell \u001b[0;32mIn[7], line 2\u001b[0m\n\u001b[1;32m      1\u001b[0m \u001b[38;5;66;03m# Get vertex normal\u001b[39;00m\n\u001b[0;32m----> 2\u001b[0m \u001b[43mCropped_pcd\u001b[49m\u001b[38;5;241m.\u001b[39mestimate_normals(\n\u001b[1;32m      3\u001b[0m     search_param\u001b[38;5;241m=\u001b[39mo3d\u001b[38;5;241m.\u001b[39mgeometry\u001b[38;5;241m.\u001b[39mKDTreeSearchParamHybrid(radius\u001b[38;5;241m=\u001b[39m\u001b[38;5;241m0.1\u001b[39m,max_nn\u001b[38;5;241m=\u001b[39m\u001b[38;5;241m30\u001b[39m))\n",
      "\u001b[0;31mNameError\u001b[0m: name 'Cropped_pcd' is not defined"
     ]
    }
   ],
   "source": [
    "# Get vertex normal\n",
    "Cropped_pcd.estimate_normals(\n",
    "    search_param=o3d.geometry.KDTreeSearchParamHybrid(radius=0.1,max_nn=30))"
   ]
  },
  {
   "cell_type": "code",
   "execution_count": 8,
   "id": "3342470b-074f-48eb-9822-0600bbeac2f3",
   "metadata": {},
   "outputs": [
    {
     "ename": "NameError",
     "evalue": "name 'cropped_pcd' is not defined",
     "output_type": "error",
     "traceback": [
      "\u001b[0;31m---------------------------------------------------------------------------\u001b[0m",
      "\u001b[0;31mNameError\u001b[0m                                 Traceback (most recent call last)",
      "Cell \u001b[0;32mIn[8], line 1\u001b[0m\n\u001b[0;32m----> 1\u001b[0m o3d\u001b[38;5;241m.\u001b[39mio\u001b[38;5;241m.\u001b[39mwrite_point_cloud(\u001b[38;5;124m\"\u001b[39m\u001b[38;5;124mcropped_with_nm.ply\u001b[39m\u001b[38;5;124m\"\u001b[39m,\u001b[43mcropped_pcd\u001b[49m, write_ascii\u001b[38;5;241m=\u001b[39m\u001b[38;5;28;01mTrue\u001b[39;00m) \u001b[38;5;66;03m#save new ascii ply\u001b[39;00m\n\u001b[1;32m      2\u001b[0m \u001b[38;5;66;03m# o3d.io.write_point_cloud(\"cropped_with_nm.ply\",cropped_pcd) #save new ascii ply\u001b[39;00m\n",
      "\u001b[0;31mNameError\u001b[0m: name 'cropped_pcd' is not defined"
     ]
    }
   ],
   "source": [
    "o3d.io.write_point_cloud(\"cropped_with_nm.ply\",cropped_pcd, write_ascii=True) #save new ascii ply\n",
    "# o3d.io.write_point_cloud(\"cropped_with_nm.ply\",cropped_pcd) #save new ascii ply"
   ]
  },
  {
   "cell_type": "code",
   "execution_count": null,
   "id": "e0560493-3fbf-4c3d-a6ef-30c464c5b525",
   "metadata": {},
   "outputs": [],
   "source": [
    "# Visualize cropped\n",
    "o3d.visualization.draw_geometries([cropped_pcd])"
   ]
  },
  {
   "cell_type": "markdown",
   "id": "90134eb9-3435-4798-821d-49543da30f52",
   "metadata": {},
   "source": [
    "X Y X Filter"
   ]
  },
  {
   "cell_type": "code",
   "execution_count": null,
   "id": "89e50cc2-3983-4125-a951-3fc8fd421d82",
   "metadata": {},
   "outputs": [],
   "source": [
    "# prepare data for filter\n",
    "\n",
    "# Convert the point cloud to a NumPy array\n",
    "points = np.asarray(cropped_pcd.points)\n",
    "colors = np.asarray(cropped_pcd.colors)\n",
    "\n",
    "# print the min and max of each coordinate\n",
    "print(f\"X range: {points[:,0].min()} to {points[:,0].max()}\")\n",
    "print(f\"Y range: {points[:,1].min()} to {points[:,1].max()}\")\n",
    "print(f\"Z range: {points[:,2].min()} to {points[:,2].max()}\")"
   ]
  },
  {
   "cell_type": "code",
   "execution_count": null,
   "id": "bbf080db-317f-4626-9341-1cb51c7fe4d3",
   "metadata": {},
   "outputs": [],
   "source": [
    "# filter x y z\n",
    "# z >= 0.9, -0.2 < x < +0.2, -0.2 < y < +0.2\n",
    "x_min, x_max = -45, 45\n",
    "y_min, y_max = -45, 45\n",
    "z_min, z_max = -70, -65\n",
    "\n",
    "filtered_indices = (z_min < points[:,0]) & (points[:,2] < z_max)  & (x_min < points[:,0] < x_max ) & (points[:,0] < x_max )& (y_min < points[:,1]) & (points[:,1] < y_max)\n",
    "filtered_points = points[filtered_indices]\n",
    "filtered_colors = colors[filtered_indices] # Apply the same indices to the colors\n",
    "\n",
    "filtered_pcd = o3d.geometry.PointCloud()\n",
    "filtered_pcd.points = o3d.utility.Vector3dVector(filtered_points)\n",
    "filtered_pcd.colors = o3d.utility.Vector3dVector(filtered_colors) # Set the colors for the filtered points\n",
    "\n",
    "# Check the number of points in the filtered point cloud\n",
    "print(f\"Number of points after filtering: {len[filtered_points]}\")"
   ]
  },
  {
   "cell_type": "code",
   "execution_count": null,
   "id": "78070541-b5c0-481d-8f88-6e2dcfe0527d",
   "metadata": {},
   "outputs": [],
   "source": [
    "# Save the filtered point cloud to a new file\n",
    "o3d.io.write_point_cloud(\"filtered_point_cloud.ply\", filtered_pcd, write_ascii=True)"
   ]
  },
  {
   "cell_type": "code",
   "execution_count": null,
   "id": "21b27ac2-6faf-48b1-bae4-7f40f80621b4",
   "metadata": {},
   "outputs": [],
   "source": [
    "# Get vertex normal\n",
    "filtered_pcd.estimate_normals(\n",
    "    search_param=o3d.geometry.KDTreeSearchParamHybrid(radius=0.1,max_nn=30))"
   ]
  },
  {
   "cell_type": "code",
   "execution_count": null,
   "id": "24826464-dce3-464f-8fde-69b5aa3505bc",
   "metadata": {},
   "outputs": [],
   "source": [
    "# Visualize the filtered point cloud\n",
    "o3d.visualization.draw_geometries([filtered_pcd])"
   ]
  }
 ],
 "metadata": {
  "kernelspec": {
   "display_name": "Python 3 (ipykernel)",
   "language": "python",
   "name": "python3"
  },
  "language_info": {
   "codemirror_mode": {
    "name": "ipython",
    "version": 3
   },
   "file_extension": ".py",
   "mimetype": "text/x-python",
   "name": "python",
   "nbconvert_exporter": "python",
   "pygments_lexer": "ipython3",
   "version": "3.9.6"
  }
 },
 "nbformat": 4,
 "nbformat_minor": 5
}
